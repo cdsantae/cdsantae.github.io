{
  "cells": [
    {
      "cell_type": "raw",
      "metadata": {},
      "source": [
        "---\n",
        "title: \"Modelo predictivo de la adiposidad visceral en adultos para la valoración del riesgo cardiovascular\"\n",
        "format:\n",
        "  revealjs:\n",
        "    fontsize: 2.3em\n",
        "date: \"07/17/2023\"\n",
        "date-format: \"MMMM, YYYY\"\n",
        "lang: es\n",
        "editor: visual\n",
        "---"
      ],
      "id": "74b6ab8e"
    },
    {
      "cell_type": "markdown",
      "metadata": {},
      "source": [
        "```{css, echo = FALSE}\n",
        ".justify {\n",
        "  text-align: justify !important\n",
        "}\n",
        "```\n",
        "\n",
        "\n",
        "## Introducción\n",
        "\n",
        ":::{.justify}\n",
        "La obesidad se ha asociado con una variedad de enfermedades crónicas no transmisibles (ENT), incluyendo la diabetes tipo 2, la enfermedad cardiovascular, la hipertensión arterial y el cáncer (OMS, 2021).\n",
        "\n",
        "La obesidad es una epidemia mundial que se ha convertido en un problema de salud pública importante, esta se ha medido tradicionalmente utilizando el índice de masa corporal (IMC), sin embargo, este indicador tiene algunas limitaciones, ya que no tiene en cuenta la distribución de la grasa corporal.\n",
        ":::\n",
        "\n",
        "## Planteamiento del problema\n",
        "\n",
        "## Objetivo general\n",
        "\n",
        "Determinar un modelo predictivo de la adiposidad visceral en adultos para la valoración del riesgo cardiovascular\n",
        "\n",
        "### Objetivos específicos\n",
        "\n",
        "-   Evaluar el desempeño de las medidas e índices antropométricos que valoran la grasa corporal en diferentes sitios anatómicos de la población adulta mediante modelos de regresión.\n",
        "-   Establecer la importancia de variables clínicas y antropométricas asociadas la adiposidad visceral mediante modelos de machine learning.\n",
        "-   Estimar un modelo cuantitativo que relacione variables antropométricas y clínicas para explicar el comportamiento de la adiposidad visceral.\n",
        "\n",
        "## Justificación y referentes\n",
        "\n",
        "## Metodolgía\n",
        "\n",
        "## Impacto & pertinencia"
      ],
      "id": "cf23fc31"
    }
  ],
  "metadata": {
    "kernelspec": {
      "display_name": "Python 3",
      "language": "python",
      "name": "python3"
    }
  },
  "nbformat": 4,
  "nbformat_minor": 5
}